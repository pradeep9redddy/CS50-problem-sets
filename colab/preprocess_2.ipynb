{
  "nbformat": 4,
  "nbformat_minor": 0,
  "metadata": {
    "colab": {
      "name": "Copy of Copy of extractdata_and_preprocess.ipynb",
      "provenance": [],
      "collapsed_sections": [],
      "toc_visible": true,
      "include_colab_link": true
    },
    "kernelspec": {
      "name": "python3",
      "display_name": "Python 3"
    },
    "accelerator": "GPU"
  },
  "cells": [
    {
      "cell_type": "markdown",
      "metadata": {
        "id": "view-in-github",
        "colab_type": "text"
      },
      "source": [
        "<a href=\"https://colab.research.google.com/github/pradeep9redddy/CS50-problem-sets/blob/master/colab/preprocess_2.ipynb\" target=\"_parent\"><img src=\"https://colab.research.google.com/assets/colab-badge.svg\" alt=\"Open In Colab\"/></a>"
      ]
    },
    {
      "cell_type": "code",
      "metadata": {
        "id": "zRpeooBYnUsW"
      },
      "source": [
        "try:\n",
        "  # Use the %tensorflow_version magic if in colab.\n",
        "  %tensorflow_version 2.x\n",
        "except Exception:\n",
        "  pass\n",
        "\n",
        "import tensorflow as tf\n",
        "import os\n",
        "import dlib\n",
        "import cv2\n",
        "import time\n",
        "import math\n",
        "import datetime\n",
        "import matplotlib.pyplot as plt\n",
        "import os\n",
        "import pickle\n",
        "import numpy as np\n",
        "import scipy.io\n",
        "import bz2\n",
        "from random import randint"
      ],
      "execution_count": null,
      "outputs": []
    },
    {
      "cell_type": "code",
      "metadata": {
        "id": "h5lbxdw9vYYI"
      },
      "source": [
        ""
      ],
      "execution_count": null,
      "outputs": []
    },
    {
      "cell_type": "code",
      "metadata": {
        "id": "hkXb9PXLvYU2"
      },
      "source": [
        "import os\n",
        "\n",
        "from tensorflow.keras import layers\n",
        "from tensorflow.keras import Model\n",
        "!wget --no-check-certificate \\\n",
        "    https://data.vision.ee.ethz.ch/cvl/rrothe/imdb-wiki/static/gender.caffemodel \\\n",
        "    -O /tmp/gender.caffemodel\n",
        "!wget --no-check-certificate \\\n",
        "    https://storage.googleapis.com/mledu-datasets/inception_v3_weights_tf_dim_ordering_tf_kernels_notop.h5 \\\n",
        "    -O /tmp/inception_v3_weights_tf_dim_ordering_tf_kernels_notop.h5\n",
        "  \n",
        "from tensorflow.keras.applications.inception_v3 import InceptionV3\n",
        "\n",
        "local_weights_file = '/tmp/inception_v3_weights_tf_dim_ordering_tf_kernels_notop.h5'"
      ],
      "execution_count": null,
      "outputs": []
    },
    {
      "cell_type": "code",
      "metadata": {
        "id": "ulrRMWjLvYR6"
      },
      "source": [
        ""
      ],
      "execution_count": null,
      "outputs": []
    },
    {
      "cell_type": "code",
      "metadata": {
        "id": "ZWZLuASWvYPM"
      },
      "source": [
        ""
      ],
      "execution_count": null,
      "outputs": []
    },
    {
      "cell_type": "code",
      "metadata": {
        "id": "Dpp9VkvevWzq"
      },
      "source": [
        "# import packages\n",
        "import numpy as np\n",
        "import cv2\n",
        "import argparse\n",
        "\n",
        "# construct the argument parse\n",
        "ap = argparse.ArgumentParser()\n",
        "ap.add_argument(\"-i\", \"--image\", required=True,\n",
        "\thelp=\"path to input image\")\n",
        "args = vars(ap.parse_args())\n",
        "\n",
        "# load SSD and ResNet network based caffe model for 300x300 dim imgs\n",
        "net = cv2.dnn.readNetFromCaffe(\"weights-prototxt.txt\", \"res_ssd_300Dim.caffeModel\")\n",
        "\n",
        "# load the input image by resizing to 300x300 dims\n",
        "image = cv2.imread(args[\"image\"])\n",
        "(height, width) = image.shape[:2]\n",
        "blob = cv2.dnn.blobFromImage(cv2.resize(image, (300, 300)), 1.0,\n",
        "\t(300, 300), (104.0, 177.0, 123.0))\n",
        "\n",
        "# pass the blob into the network\n",
        "net.setInput(blob)\n",
        "detections = net.forward()\n",
        "\n",
        "\t# loop over the detections to extract specific confidence\n",
        "for i in range(0, detections.shape[2]):\n",
        "    \t# extract the confidence (i.e., probability) associated with the\n",
        "\t# prediction\n",
        "\tconfidence = detections[0, 0, i, 2]\n",
        "\n",
        "\t# greater than the minimum confidence\n",
        "\tif confidence > 0.5:\n",
        "\n",
        "\t\tbox = detections[0, 0, i, 3:7] * np.array([width, height, width, height])\n",
        "\t\t(x1, y1, x2, y2) = box.astype(\"int\")\n",
        " \n",
        "\t\t# draw the bounding box of the face along with the associated\n",
        "\t\t# probability\n",
        "\t\ttext = \"{:.2f}%\".format(confidence * 100) + \" ( \" + str(y2-y1) + \", \" + str(x2-x1) + \" )\"\n",
        "\t\ty = y1 - 10 if y1 - 10 > 10 else y1 + 10\n",
        "\t\tcv2.rectangle(image, (x1, y1), (x2, y2),\n",
        "\t\t\t(0, 0, 255), 2)\n",
        "\t\tcv2.putText(image, text, (x1, y),\n",
        "\t\t\tcv2.LINE_AA, 0.45, (0, 0, 255), 2)\n",
        "\n",
        "# show the output image\n",
        "cv2.imshow(\"Output\", image)\n",
        "cv2.waitKey(0)"
      ],
      "execution_count": null,
      "outputs": []
    },
    {
      "cell_type": "code",
      "metadata": {
        "id": "rSaRSxBfvWtg"
      },
      "source": [
        ""
      ],
      "execution_count": null,
      "outputs": []
    },
    {
      "cell_type": "code",
      "metadata": {
        "id": "4mQ2rhla6yoD",
        "colab": {
          "base_uri": "https://localhost:8080/"
        },
        "outputId": "f218a4ed-e6ad-4f44-94c9-d05b52b5a421"
      },
      "source": [
        "if not os.path.exists(os.path.abspath('.') + 'mmod_human_face_detector.dat.bz2'):\n",
        "    annotation_zip = tf.keras.utils.get_file('mmod_human_face_detector.dat.bz2',\n",
        "                            cache_subdir=os.path.abspath('.'),\n",
        "                            origin = \"http://dlib.net/files/mmod_human_face_detector.dat.bz2\")\n",
        "# Using pythons bz2 package to read the bz2 file in binary format and write it into a .dat file\n",
        "with bz2.open(\"mmod_human_face_detector.dat.bz2\", \"rb\") as f:\n",
        "    content = f.read()\n",
        "\n",
        "    with open(\"mmod_human_face_detector.dat\", \"wb\") as weights_file:\n",
        "        weights_file.write(content)\n",
        "\n",
        "os.remove(annotation_zip)"
      ],
      "execution_count": null,
      "outputs": [
        {
          "output_type": "stream",
          "text": [
            "Downloading data from http://dlib.net/files/mmod_human_face_detector.dat.bz2\n",
            "696320/694709 [==============================] - 1s 1us/step\n"
          ],
          "name": "stdout"
        }
      ]
    },
    {
      "cell_type": "code",
      "metadata": {
        "id": "dRdhP5bIOv--",
        "colab": {
          "base_uri": "https://localhost:8080/"
        },
        "outputId": "43c45687-af24-4fd6-9dce-8173539ff2ab"
      },
      "source": [
        "dataset_url = 'https://data.vision.ee.ethz.ch/cvl/rrothe/imdb-wiki/static/wiki_crop.tar'\n",
        "annotation_folder = \"wiki_crop\"\n",
        "if not os.path.exists(os.path.abspath('.') + annotation_folder):\n",
        "    annotation_zip = tf.keras.utils.get_file('wiki.tar',\n",
        "                                            cache_subdir=os.path.abspath('.'),\n",
        "                                            origin = dataset_url,\n",
        "                                            extract = True)\n",
        "    os.remove(annotation_zip)\n",
        "data_key = 'wiki'\n",
        "mat_file = 'wiki.mat'"
      ],
      "execution_count": null,
      "outputs": [
        {
          "output_type": "stream",
          "text": [
            "Downloading data from https://data.vision.ee.ethz.ch/cvl/rrothe/imdb-wiki/static/wiki_crop.tar\n",
            "811319296/811315200 [==============================] - 5s 0us/step\n"
          ],
          "name": "stdout"
        }
      ]
    },
    {
      "cell_type": "code",
      "metadata": {
        "id": "uSvP6IiIkAUH"
      },
      "source": [
        "python convert.py --caffemodel ./places/vgg16_hybrid1365.caffemodel ./places/deploy_vgg16_hybrid1365.prototxt --data-output-path ./output.mat --code-output-path ./output2.py --standalone-output-path ./standalonehybrid.pb`"
      ],
      "execution_count": null,
      "outputs": []
    },
    {
      "cell_type": "code",
      "metadata": {
        "id": "jRIDkqbrkAQr"
      },
      "source": [
        ""
      ],
      "execution_count": null,
      "outputs": []
    },
    {
      "cell_type": "code",
      "metadata": {
        "id": "tb_atES-kAKf"
      },
      "source": [
        ""
      ],
      "execution_count": null,
      "outputs": []
    },
    {
      "cell_type": "code",
      "metadata": {
        "id": "XaIwjYoHIOsE"
      },
      "source": [
        "mat = scipy.io.loadmat(annotation_folder+'/'+mat_file)\n",
        "data = mat[data_key]\n",
        "route = data[0][0][2][0]\n",
        "name = []\n",
        "age = []\n",
        "gender = []\n",
        "images = []\n",
        "total = 0\n",
        "project_path = \"drive/My Drive/Colab Notebooks/Pradeep/Gender Classifier\""
      ],
      "execution_count": null,
      "outputs": []
    },
    {
      "cell_type": "code",
      "metadata": {
        "id": "n0UqZfdvPtDN"
      },
      "source": [
        ""
      ],
      "execution_count": null,
      "outputs": []
    },
    {
      "cell_type": "code",
      "metadata": {
        "id": "yuU1ZaeLcMQy",
        "colab": {
          "base_uri": "https://localhost:8080/",
          "height": 314
        },
        "outputId": "ac6fdf85-cff1-47f9-ee47-625e661efa0a"
      },
      "source": [
        "cnn_face_detector = dlib.cnn_face_detection_model_v1(\"mmod_human_face_detector.dat\")\n",
        "plt.figure()\n",
        "i = 1\n",
        "\n",
        "while(i <= 4):\n",
        "    index = randint(0, len(route))\n",
        "    if((math.isnan(data[0][0][6][0][index]) == False and data[0][0][6][0][index] > 0)):\n",
        "        img = cv2.imread('wiki_crop/'+data[0][0][2][0][index][0])\n",
        "        img = cv2.cvtColor(img, cv2.COLOR_BGR2RGB)\n",
        "        faces_cnn = cnn_face_detector(img, 1)\n",
        "\n",
        "        for face in faces_cnn:\n",
        "            offset_x , offset_y  = max(faces_cnn[0].rect.left(),0),max(faces_cnn[0].rect.top(),0)\n",
        "            target_width, target_height = faces_cnn[0].rect.right() - offset_x, faces_cnn[0].rect.bottom() - offset_y\n",
        "            target_width = min(target_width, img.shape[1]-offset_x)\n",
        "            target_height = min(target_height, img.shape[0]-offset_y)\n",
        "            # draw box over face\n",
        "            face_img = tf.image.crop_to_bounding_box(img, \n",
        "                                                    offset_y, offset_x, \n",
        "                                                    target_height,target_width)\n",
        "            cv2.rectangle(img, (offset_x,offset_y), (offset_x+target_width,offset_y+target_height), (0,255,0), 2)\n",
        "            face_img = tf.image.resize(face_img, (32, 32), method=tf.image.ResizeMethod.BICUBIC, antialias=True)\n",
        "            face_img = tf.dtypes.cast(face_img, tf.int32)\n",
        "            # Plotting images\n",
        "            plt.subplot(2, 2, i)\n",
        "            plt.imshow(img)\n",
        "            plt.title(data[0][0][4][0][index][0])\n",
        "            plt.subplot(2,2, i+1)\n",
        "            plt.imshow(face_img)\n",
        "            i += 2"
      ],
      "execution_count": null,
      "outputs": [
        {
          "output_type": "stream",
          "text": [
            "Clipping input data to the valid range for imshow with RGB data ([0..1] for floats or [0..255] for integers).\n",
            "Clipping input data to the valid range for imshow with RGB data ([0..1] for floats or [0..255] for integers).\n"
          ],
          "name": "stderr"
        },
        {
          "output_type": "display_data",
          "data": {
            "image/png": "[encoded data removed]",
            "text/plain": [
              "<Figure size 432x288 with 4 Axes>"
            ]
          },
          "metadata": {
            "tags": [],
            "needs_background": "light"
          }
        }
      ]
    },
    {
      "cell_type": "code",
      "metadata": {
        "id": "Crtp5xts5hW0"
      },
      "source": [
        "import numpy as np\n",
        "from scipy.io import loadmat\n",
        "import pandas as pd\n",
        "import datetime as date\n",
        "from dateutil.relativedelta import relativedelta\n",
        "\n",
        "cols = ['age', 'gender', 'path', 'face_score1', 'face_score2']\n",
        "\n",
        "wiki_mat = 'wiki_crop/wiki.mat'\n",
        "\n",
        "wiki_data = loadmat(wiki_mat)\n",
        "\n",
        "del wiki_mat\n",
        "\n",
        "wiki = wiki_data['wiki']\n",
        "\n",
        "wiki_photo_taken = wiki[0][0][1][0]\n",
        "wiki_full_path = wiki[0][0][2][0]\n",
        "wiki_gender = wiki[0][0][3][0]\n",
        "wiki_face_score1 = wiki[0][0][6][0]\n",
        "wiki_face_score2 = wiki[0][0][7][0]\n",
        "\n",
        "wiki_path = []\n",
        "\n",
        "for path in wiki_full_path:\n",
        "    wiki_path.append('wiki_crop/' + path[0])\n",
        "\n",
        "wiki_genders = []\n",
        "\n",
        "\n",
        "for n in range(len(wiki_gender)):\n",
        "    if wiki_gender[n] == 1:\n",
        "        wiki_genders.append('male')\n",
        "    else:\n",
        "        wiki_genders.append('female')\n",
        "\n",
        "wiki_dob = []\n",
        "\n",
        "for file in imdb_path:\n",
        "    temp = file.split('_')[3]\n",
        "    temp = temp.split('-')\n",
        "    if len(temp[1]) == 1:\n",
        "        temp[1] = '0' + temp[1]\n",
        "    if len(temp[2]) == 1:\n",
        "        temp[2] = '0' + temp[2]\n",
        "\n",
        "    if temp[1] == '00':\n",
        "        temp[1] = '01'\n",
        "    if temp[2] == '00':\n",
        "        temp[2] = '01'\n",
        "    \n",
        "    imdb_dob.append('-'.join(temp))\n",
        "\n",
        "for file in wiki_path:\n",
        "    wiki_dob.append(file.split('_')[2])\n",
        "\n",
        "\n",
        "wiki_age = []\n",
        "\n",
        "\n",
        "for i in range(len(wiki_dob)):\n",
        "    try:\n",
        "        d1 = date.datetime.strptime(wiki_dob[i][0:10], '%Y-%m-%d')\n",
        "        d2 = date.datetime.strptime(str(wiki_photo_taken[i]), '%Y')\n",
        "        rdelta = relativedelta(d2, d1)\n",
        "        diff = rdelta.years\n",
        "    except Exception as ex:\n",
        "        print(ex)\n",
        "        diff = -1\n",
        "    wiki_age.append(diff)\n",
        "\n",
        "final_wiki = np.vstack((wiki_age, wiki_genders, wiki_path, wiki_face_score1, wiki_face_score2)).T\n",
        "\n",
        "final_wiki_df = pd.DataFrame(final_wiki)\n",
        "\n",
        "final_wiki_df.columns = cols\n",
        "\n",
        "meta = final_wiki_df\n",
        "\n",
        "meta = meta[meta['face_score1'] != '-inf']\n",
        "meta = meta[meta['face_score2'] == 'nan']\n",
        "\n",
        "meta = meta.drop(['face_score1', 'face_score2'], axis=1)\n",
        "\n",
        "meta = meta.sample(frac=1)\n",
        "\n",
        "meta.to_csv('meta.csv', index=False)\n"
      ],
      "execution_count": null,
      "outputs": []
    },
    {
      "cell_type": "code",
      "metadata": {
        "id": "7J6DqmKQWR2R"
      },
      "source": [
        "# Importing dependencies\n",
        "import pandas as pd\n",
        "import numpy as np\n",
        "import cv2\n",
        "import os\n",
        "from sklearn.model_selection import train_test_split\n",
        "\n",
        "# Loading dataset\n",
        "meta = pd.read_csv('meta.csv')\n",
        "\n",
        "# Dropping gender column\n",
        "meta = meta.drop(['gender'], axis=1)\n",
        "\n",
        "# Filtaring dataset\n",
        "meta = meta[meta['age'] >= 0]\n",
        "meta = meta[meta['age'] <= 101]\n",
        "\n",
        "# Converting into numpy array\n",
        "meta = meta.values\n",
        "\n",
        "# Spliting dataset into training and testing set\n",
        "D_train, D_test = train_test_split(meta, test_size=0.2, random_state=42)\n",
        "\n",
        "# Making the directory structure\n",
        "for i in range(102):\n",
        "    output_dir_train_male = 'dataset/age/train/' + str(i)\n",
        "    output_dir_train_female = 'dataset/age/train/' + str(i)\n",
        "\n",
        "    if not os.path.exists(output_dir_train_male):\n",
        "        os.makedirs(output_dir_train_male)\n",
        "\n",
        "    if not os.path.exists(output_dir_train_female):\n",
        "        os.makedirs(output_dir_train_female)\n",
        "\n",
        "    output_dir_test_male = 'dataset/age/test/' + str(i)\n",
        "    output_dir_test_female = 'dataset/age/test/' + str(i)\n",
        "\n",
        "    if not os.path.exists(output_dir_test_male):\n",
        "        os.makedirs(output_dir_test_male)\n",
        "\n",
        "    if not os.path.exists(output_dir_test_female):\n",
        "        os.makedirs(output_dir_test_female)\n",
        "\n",
        "# Finally making the training and testing set\n",
        "counter = 0\n",
        "\n",
        "for image in D_train:\n",
        "    img = cv2.imread(image[1], 1)\n",
        "    img = cv2.resize(img, (128,128))\n",
        "    cv2.imwrite('dataset/age/train/' + str(image[0]) + '/' + str(counter) + '.jpg', img)\n",
        "    print('--('+str(counter)+')Processing--')\n",
        "    counter += 1\n",
        "\n",
        "counter = 0\n",
        "\n",
        "for image in D_test:\n",
        "    img = cv2.imread(image[1], 1)\n",
        "    img = cv2.resize(img, (128,128))\n",
        "    cv2.imwrite('dataset/age/test/' + str(image[0]) +  '/' + str(counter) + '.jpg', img)\n",
        "    print('--('+str(counter)+')Processing--')\n",
        "    counter += 1\n",
        "\n",
        "\n"
      ],
      "execution_count": null,
      "outputs": []
    },
    {
      "cell_type": "code",
      "metadata": {
        "id": "ysy6DAXI7kAS"
      },
      "source": [
        "# Importing dependencies\n",
        "import pandas as pd\n",
        "import numpy as np\n",
        "import cv2\n",
        "import os\n",
        "from sklearn.model_selection import train_test_split\n",
        "\n",
        "# Loading the data\n",
        "meta = pd.read_csv('meta.csv')\n",
        "\n",
        "# Deleting the age column as we dont need it\n",
        "meta = meta.drop(['age'], axis=1)\n",
        "\n",
        "# Spliting the dataset into train and test set\n",
        "D_train, D_test = train_test_split(meta, test_size=0.1, random_state=42)\n",
        "\n",
        "# The dataset contains more male faces that female faces. This can couse some problems.\n",
        "# One feature can start dominating on other feature. To solve this I am selecting equal number of male and female faces in the training set\n",
        "D_train_male = D_train[D_train['gender'] == 'male']\n",
        "D_train_female = D_train[D_train['gender'] == 'female']\n",
        "\n",
        "no_male = len(D_train_male)\n",
        "no_female = len(D_train_female)\n",
        "\n",
        "if no_male > no_female:\n",
        "    extra = D_train_male[no_female:]\n",
        "    D_train_male = D_train_male[0:no_female]\n",
        "\n",
        "    D_test = pd.concat((D_test, extra))\n",
        "else:\n",
        "    extra = D_train_male[no_male:]\n",
        "    D_train_male = D_train_male[0:no_male]\n",
        "\n",
        "    D_test = pd.concat((D_test, extra))\n",
        "\n",
        "D_train = pd.concat((D_train_male, D_train_female))\n",
        "\n",
        "# Shuffling the dataset\n",
        "D_train = D_train.sample(frac=1)\n",
        "D_test = D_test.sample(frac=1)\n",
        "\n",
        "# Generating folder struture for the data\n",
        "output_dir_train_male = 'dataset/gender/train/male'\n",
        "output_dir_train_female = 'dataset/gender/train/female'\n",
        "\n",
        "if not os.path.exists(output_dir_train_male):\n",
        "    os.makedirs(output_dir_train_male)\n",
        "\n",
        "if not os.path.exists(output_dir_train_female):\n",
        "    os.makedirs(output_dir_train_female)\n",
        "\n",
        "output_dir_test_male = 'dataset/gender/test/male'\n",
        "output_dir_test_female = 'dataset/gender/test/female'\n",
        "\n",
        "if not os.path.exists(output_dir_test_male):\n",
        "    os.makedirs(output_dir_test_male)\n",
        "\n",
        "if not os.path.exists(output_dir_test_female):\n",
        "    os.makedirs(output_dir_test_female)\n",
        "\n",
        "# Finally processing the image training and testting set\n",
        "counter = 0\n",
        "\n",
        "for image in D_train.values:\n",
        "    img = cv2.imread(image[1], 1)\n",
        "    img = cv2.resize(img, (128,128))\n",
        "    if image[0] == 'male':\n",
        "        cv2.imwrite('dataset/gender/train/male/' + str(counter) + '.jpg', img)\n",
        "    else:\n",
        "        cv2.imwrite('dataset/gender/train/female/' + str(counter) + '.jpg', img)\n",
        "    print('--('+str(counter)+')Processing--')\n",
        "    counter += 1\n",
        "\n",
        "counter = 0\n",
        "\n",
        "for image in D_test.values:\n",
        "    img = cv2.imread(image[1], 1)\n",
        "    img = cv2.resize(img, (128,128))\n",
        "    if image[0] == 'male':\n",
        "        cv2.imwrite('dataset/gender/test/male/' + str(counter) + '.jpg', img)\n",
        "    else:\n",
        "        cv2.imwrite('dataset/gender/test/female/' + str(counter) + '.jpg', img)\n",
        "    print('--('+str(counter)+')Processing--')\n",
        "    counter += 1\n"
      ],
      "execution_count": null,
      "outputs": []
    },
    {
      "cell_type": "code",
      "metadata": {
        "id": "PyR4yvpe8jl9"
      },
      "source": [
        ""
      ],
      "execution_count": null,
      "outputs": []
    },
    {
      "cell_type": "code",
      "metadata": {
        "id": "53-Jz9nZ8jbE"
      },
      "source": [
        ""
      ],
      "execution_count": null,
      "outputs": []
    },
    {
      "cell_type": "code",
      "metadata": {
        "id": "yhEW7-KXAZ5d"
      },
      "source": [
        ""
      ],
      "execution_count": null,
      "outputs": []
    },
    {
      "cell_type": "code",
      "metadata": {
        "id": "uu_vwslXYcJX"
      },
      "source": [
        "total = 0\n",
        "cnn_face_detector = dlib.cnn_face_detection_model_v1(\"mmod_human_face_detector.dat\")\n",
        "today = datetime.date.today()\n",
        "for i in range(0,len(route)):\n",
        "    if i%100 is 0:\n",
        "        print(i)\n",
        "    try:\n",
        "        if((math.isnan(data[0][0][6][0][i]) == False and data[0][0][6][0][i] > 0) and \n",
        "        math.isnan(data[0][0][3][0][i]) == False):\n",
        "            img = cv2.imread(annotation_folder+\"/\"+route[i][0])\n",
        "            img = cv2.cvtColor(img, cv2.COLOR_BGR2RGB)\n",
        "\n",
        "            faces_cnn = cnn_face_detector(img, 1)\n",
        "\n",
        "            if len(faces_cnn) == 1:\n",
        "\n",
        "                total += 1\n",
        "                temp = datetime.date.fromordinal(int(data[0][0][0][0][i])) - datetime.timedelta(days = 366)\n",
        "                offset_x , offset_y  = max(faces_cnn[0].rect.left(),0),max(faces_cnn[0].rect.top(),0)\n",
        "                target_width, target_height = faces_cnn[0].rect.right() - offset_x, faces_cnn[0].rect.bottom() - offset_y\n",
        "\n",
        "                target_width = min(target_width, img.shape[1]-offset_x)\n",
        "                target_height = min(target_height, img.shape[0]-offset_y)\n",
        "\n",
        "                face_img = tf.image.crop_to_bounding_box(img, \n",
        "                                                        offset_y, offset_x, \n",
        "                                                        target_height,target_width)\n",
        "                \n",
        "                face_img = tf.image.resize(face_img, (32, 32), method=tf.image.ResizeMethod.BICUBIC, antialias=True)\n",
        "                face_img = tf.dtypes.cast(face_img, tf.int32)\n",
        "                \n",
        "                images.append(face_img.numpy())\n",
        "                age.append([today.year - temp.year])\n",
        "                name.append(data[0][0][4][0][i])\n",
        "                gender.append([data[0][0][3][0][i]])\n",
        "\n",
        "    except Exception as err:\n",
        "        print(err)\n",
        "        print(\"error in i value \", i)\n",
        "        if (len(name) == total):\n",
        "            name.pop()\n",
        "        if (len(gender) == total):\n",
        "            gender.pop()\n",
        "        if (len(age) == total):\n",
        "            age.pop()\n",
        "        if (len(images) == total):\n",
        "            images.pop()\n",
        "        total -= 1\n",
        "    \n",
        "    except KeyboardInterrupt:\n",
        "        break\n",
        "\n",
        "print(total, \" elements were processed and stored\")"
      ],
      "execution_count": null,
      "outputs": []
    },
    {
      "cell_type": "code",
      "metadata": {
        "id": "WvWLJKJ7fo6G"
      },
      "source": [
        "print(len(route))"
      ],
      "execution_count": null,
      "outputs": []
    },
    {
      "cell_type": "code",
      "metadata": {
        "id": "KrEvWalnwr93"
      },
      "source": [
        "meta_data = {\n",
        "    \"images\" : images,\n",
        "    \"name\" : name,\n",
        "    # \"dob\" : dob,\n",
        "    \"age\" : age,\n",
        "    \"gender\" : gender\n",
        "}\n",
        "if not os.path.exists(project_path+\"/dataset\"):\n",
        "    os.mkdir(project_path+\"/dataset\")\n",
        "binary_file = open(project_path+\"/dataset/wiki_data.pickle\", \"ab\")\n",
        "pickle.dump(meta_data, binary_file )\n",
        "binary_file.close()"
      ],
      "execution_count": null,
      "outputs": []
    },
    {
      "cell_type": "code",
      "metadata": {
        "id": "xIGwPIQeW8xY"
      },
      "source": [
        ""
      ],
      "execution_count": null,
      "outputs": []
    }
  ]
}